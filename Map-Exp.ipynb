{
 "cells": [
  {
   "cell_type": "code",
   "execution_count": 1,
   "id": "f582a276",
   "metadata": {},
   "outputs": [],
   "source": [
    "import pandas as pd\n",
    "import numpy as np\n",
    "import requests\n",
    "import geopandas as gpd\n",
    "import matplotlib.pyplot as plt\n",
    "\n",
    "\n",
    "import folium\n",
    "from folium.plugins import HeatMap\n",
    "import branca\n",
    "\n",
    "\n",
    "from shapely.geometry import Point"
   ]
  },
  {
   "cell_type": "code",
   "execution_count": 2,
   "id": "d7c5fc0b-eb51-4016-9336-fe0e40960461",
   "metadata": {},
   "outputs": [],
   "source": [
    "url = \"https://developer.nrel.gov/api/alt-fuel-stations/v1.json\"  # Replace with the actual API endpoint\n",
    "params = {\n",
    "    'format': 'json',  # Output response format\n",
    "    'api_key': '***',  # Your developer API key\n",
    "    'status': 'all',  # Return stations that match the given status\n",
    "    # 'access': 'public',  # Return stations with the given access type\n",
    "    'fuel_type': 'ELEC', # Return stations that supply any of the given fuel types\n",
    "    'state': 'CA',\n",
    "    'country': 'US',\n",
    "    \n",
    "}\n",
    "\n",
    "response = requests.get(url, params=params)\n",
    "if response.status_code == 200:\n",
    "\n",
    "    data = response.json()"
   ]
  },
  {
   "cell_type": "code",
   "execution_count": 3,
   "id": "a2f59092-a21c-4314-9dc8-b37d12b621bf",
   "metadata": {},
   "outputs": [],
   "source": [
    "df = pd.DataFrame(data['fuel_stations'])\n",
    "sdf = df.copy()\n",
    "sdf = sdf[sdf['city']=='San Diego']\n",
    "sdf.head(1)"
   ]
  },
  {
   "cell_type": "code",
   "execution_count": 4,
   "id": "06a3f311-0d98-4f60-b4a0-46ee6fab9a0d",
   "metadata": {},
   "outputs": [],
   "source": [
    "sdf[sdf['street_address'].str.contains('Judicial', case=False, na=False)]\n",
    "# 616"
   ]
  },
  {
   "cell_type": "code",
   "execution_count": 5,
   "id": "6fc08c3e-e37a-4d96-b91a-4318c14e8bd5",
   "metadata": {},
   "outputs": [],
   "source": [
    "import osmnx as ox\n",
    "import geopandas as gpd\n",
    "\n",
    "# Approximate coordinates for \"Kearny Villa Rd & Century Park Ct\"\n",
    "intersection_location = (32.823413, -117.144259)\n",
    "\n",
    "# Load the San Diego road network\n",
    "G = ox.graph_from_place(\"San Diego, California, USA\", network_type=\"drive\")\n",
    "\n",
    "# Extract the coordinates for the observation point\n",
    "observation_lat = sdf.loc[616][\"latitude\"]\n",
    "observation_lon = sdf.loc[616][\"longitude\"]\n",
    "observation_location = (observation_lat, observation_lon)\n",
    "\n",
    "# Find the nearest network nodes to the intersection and the observation point\n",
    "intersection_node = ox.nearest_nodes(G, X=intersection_location[1], Y=intersection_location[0])\n",
    "observation_node = ox.nearest_nodes(G, X=observation_location[1], Y=observation_location[0])\n",
    "\n",
    "# Calculate the shortest path by road\n",
    "route = ox.shortest_path(G, intersection_node, observation_node, weight=\"length\")\n",
    "\n",
    "# Calculate the total length of the route in meters\n",
    "route_length_meters = sum(ox.utils_graph.get_route_edge_attributes(G, route, 'length'))\n",
    "\n",
    "# Convert the length to miles (1 mile = 1609.34 meters)\n",
    "route_length_miles = route_length_meters / 1609.34\n",
    "\n",
    "# Print the distance\n",
    "print(f\"The distance of the route is {route_length_miles:.2f} miles.\")\n",
    "\n",
    "# Plot the map with the shortest path highlighted\n",
    "fig, ax = ox.plot_graph_route(G, route, route_linewidth=4, node_size=0)"
   ]
  }
 ],
 "metadata": {
  "kernelspec": {
   "display_name": "Python 3 (ipykernel)",
   "language": "python",
   "name": "python3"
  },
  "language_info": {
   "codemirror_mode": {
    "name": "ipython",
    "version": 3
   },
   "file_extension": ".py",
   "mimetype": "text/x-python",
   "name": "python",
   "nbconvert_exporter": "python",
   "pygments_lexer": "ipython3",
   "version": "3.11.9"
  }
 },
 "nbformat": 4,
 "nbformat_minor": 5
}
