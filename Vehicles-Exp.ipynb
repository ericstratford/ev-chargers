{
 "cells": [
  {
   "cell_type": "code",
   "execution_count": 1,
   "id": "59c74299-ac9d-4263-9086-6c606c8e553f",
   "metadata": {},
   "outputs": [],
   "source": [
    "import pandas as pd\n",
    "import numpy as np"
   ]
  },
  {
   "cell_type": "code",
   "execution_count": 2,
   "id": "050b3877-df15-464a-8cca-2f8c571e10e0",
   "metadata": {},
   "outputs": [],
   "source": [
    "import requests\n",
    "import json\n",
    "\n",
    "# Define the API endpoint and parameters\n",
    "url = \"https://data.ca.gov/api/3/action/datastore_search\"\n",
    "params = {\n",
    "    \"resource_id\": \"d599c3d3-87af-4e8c-8694-9c01f49e3d93\",  # Unique identifier for the dataset\n",
    "    \"limit\": 5000000  # Number of records to retrieve\n",
    "}\n",
    "\n",
    "# Make the request\n",
    "response = requests.get(url, params=params)\n",
    "data = response.json()\n",
    "\n",
    "# Check if the request was successful\n",
    "if data[\"success\"]:\n",
    "    records = data[\"result\"][\"records\"]\n",
    "    # Print the first record to inspect\n",
    "    print(records[0])\n",
    "else:\n",
    "    print(\"Failed to retrieve data.\")\n"
   ]
  },
  {
   "cell_type": "code",
   "execution_count": 3,
   "id": "25aebe14-4a64-438e-9eeb-ffcc6d274937",
   "metadata": {},
   "outputs": [],
   "source": [
    "len(data['result']['records'])"
   ]
  },
  {
   "cell_type": "code",
   "execution_count": 4,
   "id": "294fa9f8-c397-4fbe-906b-a53fdc6093da",
   "metadata": {},
   "outputs": [],
   "source": [
    "dwnld = pd.read_csv(\"vehicle-fuel-type-count-by-zip-code-20231.csv\")"
   ]
  },
  {
   "cell_type": "code",
   "execution_count": 5,
   "id": "01c28a1f-8332-4550-8c32-dfe84125a2b8",
   "metadata": {},
   "outputs": [],
   "source": [
    "# df = dwnld.copy()\n",
    "df.head()"
   ]
  },
  {
   "cell_type": "code",
   "execution_count": 6,
   "id": "50485d8a-1ecd-4354-ac0d-8843a922817e",
   "metadata": {},
   "outputs": [],
   "source": [
    "df['ZIP Code'].nunique()"
   ]
  },
  {
   "cell_type": "code",
   "execution_count": 7,
   "id": "7ccf09b4-0d78-44a4-974e-99b0a5ec4c25",
   "metadata": {},
   "outputs": [],
   "source": [
    "df['Fuel'].unique()"
   ]
  },
  {
   "cell_type": "code",
   "execution_count": 8,
   "id": "1d904cd2-97cb-484c-a272-368aae15d615",
   "metadata": {},
   "outputs": [],
   "source": [
    "evdf = df[df['Fuel']==\"Battery Electric\"]\n",
    "evdf.shape"
   ]
  },
  {
   "cell_type": "code",
   "execution_count": 9,
   "id": "1d9f7419-261f-4490-abaa-1281cd9034de",
   "metadata": {},
   "outputs": [],
   "source": [
    "import matplotlib.pyplot as plt\n",
    "import seaborn as sns\n",
    "\n",
    "fuel_totals = df.groupby('Fuel')['Vehicles'].sum().reset_index()\n",
    "fuel_totals = fuel_totals.sort_values(by='Vehicles', ascending=False)\n",
    "\n",
    "plt.figure(figsize=(10, 6))\n",
    "sns.barplot(data=fuel_totals, x='Fuel', y='Vehicles', palette='plasma', hue='Vehicles')\n",
    "plt.xlabel('Fuel Type')\n",
    "plt.ylabel('Total Number of Vehicles')\n",
    "plt.title('Total Number of Vehicles by Fuel Type')\n",
    "plt.xticks(rotation=45)  # Rotate x-axis labels for readability\n",
    "\n",
    "plt.show()"
   ]
  },
  {
   "cell_type": "code",
   "execution_count": 10,
   "id": "8045761a-081b-4bd8-b1d5-a859c6c7c04b",
   "metadata": {},
   "outputs": [],
   "source": [
    "ndf = df[(df['Model Year']!=\"<2010\") & (df['Model Year']!=\"Unk\")]"
   ]
  },
  {
   "cell_type": "code",
   "execution_count": 11,
   "id": "ed3a3541-c7be-482d-a4d3-8660ba01679f",
   "metadata": {},
   "outputs": [],
   "source": [
    "# Group 'Vehicles' by 'Model Year' by 'Fuel'\n",
    "hevs_summary = ndf.groupby(['Model Year', 'Fuel'])['Vehicles'].sum().unstack()\n",
    "\n",
    "hevs_summary.plot(kind='bar', stacked=True, figsize=(12, 8), colormap='Set1')\n",
    "plt.xlabel('Model Year')\n",
    "plt.ylabel('Total Number of Vehicles')\n",
    "plt.title('Total Number of Vehicles by Model Year and Fuel Type')\n",
    "plt.legend(title='Fuel Type')\n",
    "plt.xticks(rotation=45)\n",
    "\n",
    "plt.show()"
   ]
  },
  {
   "cell_type": "code",
   "execution_count": 12,
   "id": "de3da76d-4a84-4439-b706-18b130f3988c",
   "metadata": {},
   "outputs": [],
   "source": [
    "# Plot a line chart\n",
    "plt.figure(figsize=(12, 8))\n",
    "for fuel_type in ndf['Fuel'].unique():\n",
    "    subset = ndf[ndf['Fuel'] == fuel_type]\n",
    "    yearly_totals = subset.groupby('Model Year')['Vehicles'].sum()\n",
    "    plt.plot(yearly_totals.index, yearly_totals.values, label=fuel_type)\n",
    "plt.xlabel('Model Year')\n",
    "plt.ylabel('Total Number of Vehicles')\n",
    "plt.title('Total Number of Vehicles by Model Year for Each Fuel Type')\n",
    "plt.legend(title='Fuel Type')\n",
    "plt.xticks(rotation=45)\n",
    "\n",
    "plt.show()"
   ]
  },
  {
   "cell_type": "code",
   "execution_count": 13,
   "id": "4a204e65-23cd-49e0-9ac4-48ae23e21972",
   "metadata": {},
   "outputs": [],
   "source": [
    "# Get top 10 zip codes by battery electric vehicles\n",
    "battery_electric = df[df['Fuel'] == \"Battery Electric\"]\n",
    "top_zip_codes = battery_electric.groupby('ZIP Code')['Vehicles'].sum().nlargest(10).index\n",
    "top_hevs = df[df['ZIP Code'].isin(top_zip_codes)]\n",
    "zip_fuel_summary = top_hevs.groupby(['ZIP Code', 'Fuel'])['Vehicles'].sum().unstack()\n",
    "\n",
    "# Plot\n",
    "zip_fuel_summary.plot(kind='bar', stacked=True, figsize=(12, 8), colormap='Set1')\n",
    "plt.xlabel('ZIP Code')\n",
    "plt.ylabel('Total Number of Vehicles')\n",
    "plt.title('Total Number of Vehicles by ZIP Code and Fuel Type (Top 10 ZIP Codes for Battery Electric)')\n",
    "plt.legend(title='Fuel Type')\n",
    "plt.xticks(rotation=45)\n",
    "\n",
    "plt.show()"
   ]
  }
 ],
 "metadata": {
  "kernelspec": {
   "display_name": "Python 3 (ipykernel)",
   "language": "python",
   "name": "python3"
  },
  "language_info": {
   "codemirror_mode": {
    "name": "ipython",
    "version": 3
   },
   "file_extension": ".py",
   "mimetype": "text/x-python",
   "name": "python",
   "nbconvert_exporter": "python",
   "pygments_lexer": "ipython3",
   "version": "3.11.9"
  }
 },
 "nbformat": 4,
 "nbformat_minor": 5
}
