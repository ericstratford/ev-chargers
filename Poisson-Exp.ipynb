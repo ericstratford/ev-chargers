{
 "cells": [
  {
   "cell_type": "markdown",
   "id": "7bfb2bc1-c688-48be-a449-f5ad28aae4fe",
   "metadata": {},
   "source": [
    "## Imports"
   ]
  },
  {
   "cell_type": "code",
   "execution_count": 1,
   "id": "7a842941-8e24-4f55-b0b7-a816aa55971f",
   "metadata": {},
   "outputs": [],
   "source": [
    "import pandas as pd\n",
    "import numpy as np\n",
    "import requests\n",
    "import geopandas as gpd\n",
    "import matplotlib.pyplot as plt\n",
    "import seaborn as sns"
   ]
  },
  {
   "cell_type": "markdown",
   "id": "ddb541f6-ab87-41b4-97ad-e6670b2f8ffe",
   "metadata": {},
   "source": [
    "## Data Query"
   ]
  },
  {
   "cell_type": "markdown",
   "id": "6afb99e2-7c87-4b0d-9a04-5af9550d9d84",
   "metadata": {},
   "source": [
    "#### Public Downloadable Data Sources:\n",
    "- California DMV Vehicles by Zip Code and Fuel Type\n",
    "- SDGE Territory Zip Codes (2023)"
   ]
  },
  {
   "cell_type": "code",
   "execution_count": 2,
   "id": "80cbc498-0fe5-4367-9da8-fbd969e1df69",
   "metadata": {},
   "outputs": [],
   "source": [
    "sdge_zips_data = pd.read_excel(\"data/SDGE Service Territory Zip Code List Q2-2021.xlsx\")"
   ]
  },
  {
   "cell_type": "code",
   "execution_count": 3,
   "id": "0c4d6700-9be8-4f41-a438-e9d470e2e4a9",
   "metadata": {},
   "outputs": [],
   "source": [
    "dmv_2019 = pd.read_csv(\"data/vehicle-fuel-type-count-by-zip-code-2019.csv\", low_memory=False)\n",
    "dmv_2020 = pd.read_csv(\"data/vehicle-fuel-type-count-by-zip-code-2020.csv\", low_memory=False)\n",
    "dmv_2021 = pd.read_csv(\"data/vehicle-fuel-type-count-by-zip-code-2021.csv\", low_memory=False)\n",
    "dmv_2022 = pd.read_csv(\"data/vehicle-fuel-type-count-by-zip-code-2022.csv\", low_memory=False)\n",
    "dmv_2023 = pd.read_csv(\"data/vehicle-fuel-type-count-by-zip-code-2023.csv\", low_memory=False)\n",
    "dmv_2024 = pd.read_csv(\"data/vehicle-fuel-type-count-by-zip-code-2024.csv\", low_memory=False)"
   ]
  },
  {
   "cell_type": "markdown",
   "id": "4cd6f143-a2d7-434c-981f-3b5888afb7d6",
   "metadata": {},
   "source": [
    "## Data Pre-Processing"
   ]
  },
  {
   "cell_type": "code",
   "execution_count": 4,
   "id": "fc936524-b28c-4094-883b-4c583945c3cc",
   "metadata": {},
   "outputs": [],
   "source": [
    "sdge_zips = list(sdge_zips_data['ZIP_CODE'])"
   ]
  },
  {
   "cell_type": "code",
   "execution_count": 5,
   "id": "7739595a-83f1-4a86-9b5c-5d6ff666c27b",
   "metadata": {},
   "outputs": [],
   "source": [
    "dmv_2019['Year'] = 2019\n",
    "dmv_2020['Year'] = 2020\n",
    "dmv_2021['Year'] = 2021\n",
    "dmv_2022['Year'] = 2022\n",
    "dmv_2023['Year'] = 2023\n",
    "dmv_2024['Year'] = 2024\n",
    "dmv_2024.rename(columns={'ZIP Code':'Zip Code'}, inplace=True)"
   ]
  },
  {
   "cell_type": "code",
   "execution_count": 6,
   "id": "ceda8210-7ab4-46f7-b5b2-886a629c9056",
   "metadata": {},
   "outputs": [],
   "source": [
    "dmv_data = pd.concat([dmv_2019, dmv_2020, dmv_2021, dmv_2022, dmv_2023, dmv_2024], axis=0)\n",
    "dmv_data.drop(columns=['Date'])\n",
    "dmv_data.rename(columns={'Year':'Registration Year'}, inplace=True)\n",
    "dmv_data = dmv_data.reset_index(drop=True)\n",
    "# dmv_data"
   ]
  },
  {
   "cell_type": "code",
   "execution_count": 7,
   "id": "cc32d18a-ca9b-46ed-a0bb-9fe45794b860",
   "metadata": {},
   "outputs": [],
   "source": [
    "evs = dmv_data[dmv_data['Fuel'] == \"Battery Electric\"].reset_index(drop=True)\n",
    "evs = evs.drop(evs[(evs['Zip Code']==\"OOS\") | (evs['Zip Code']==\"Other\")].index)\n",
    "evs['Zip Code'] = evs['Zip Code'].astype(int)\n",
    "evs = evs[evs['Zip Code'].isin(sdge_zips)]\n",
    "evs = evs.groupby(['Registration Year', 'Zip Code'])[['Vehicles']].sum()\n",
    "evs = evs.reset_index()\n",
    "evs.head()"
   ]
  },
  {
   "cell_type": "markdown",
   "id": "67fe05f2-38d8-4f74-89ca-a5c259b67fdd",
   "metadata": {},
   "source": [
    "## Distribution Analysis"
   ]
  },
  {
   "cell_type": "code",
   "execution_count": 8,
   "id": "7f49f4bd-2837-4ebf-bbf4-4242de89685f",
   "metadata": {},
   "outputs": [],
   "source": [
    "evs.groupby('Registration Year')['Vehicles'].sum()"
   ]
  },
  {
   "cell_type": "code",
   "execution_count": 9,
   "id": "ec540625-b3fc-4646-85ec-a51c23eacea7",
   "metadata": {},
   "outputs": [],
   "source": [
    "# Boxplot of EVs by Zip Code by Registration Year\n",
    "plt.figure(figsize=(12, 6))\n",
    "sns.boxplot(data=evs, x='Registration Year', y='Vehicles')\n",
    "plt.title('Distribution of EV Vehicles by Registration Year')\n",
    "plt.xlabel('Registration Year')\n",
    "plt.ylabel('Number of Vehicles')\n",
    "plt.show()"
   ]
  },
  {
   "cell_type": "code",
   "execution_count": 10,
   "id": "16339e25-e9ab-4e32-a804-93de7e8d19ba",
   "metadata": {},
   "outputs": [],
   "source": [
    "# Violin plot for the distribution of EV vehicles\n",
    "plt.figure(figsize=(12, 6))\n",
    "sns.violinplot(data=evs, x='Registration Year', y='Vehicles')\n",
    "plt.title('Violin Plot of EV Vehicles by Registration Year')\n",
    "plt.xlabel('Registration Year')\n",
    "plt.ylabel('Number of Vehicles')\n",
    "plt.show()"
   ]
  },
  {
   "cell_type": "code",
   "execution_count": 11,
   "id": "2afc64c4-7b3e-4f82-b8b0-5f2920a3095c",
   "metadata": {},
   "outputs": [],
   "source": [
    "year = 2024\n",
    "yearly_data = evs[evs['Registration Year'] == year]\n",
    "\n",
    "# Extract vehicle counts by Zip Code\n",
    "zip_vehicle_counts = yearly_data.set_index('Zip Code')['Vehicles'].values\n",
    "\n",
    "# Monte Carlo simulation using poisson-distributed samples\n",
    "n_simulations = 1000\n",
    "simulated_totals = []\n",
    "for _ in range(n_simulations):\n",
    "    simulated_counts = np.random.poisson(lam=zip_vehicle_counts)  # Generate samples for each zip code\n",
    "    total_simulated = simulated_counts.sum()  # Sum across zip codes for total count\n",
    "    simulated_totals.append(total_simulated)\n",
    "\n",
    "\n",
    "# Plot histogram\n",
    "observed_total = yearly_data['Vehicles'].sum()  # Total vehicles observed in the year\n",
    "plt.figure(figsize=(12, 6))\n",
    "plt.hist(simulated_totals, bins=30, edgecolor='black')\n",
    "plt.axvline(x=observed_total, color='red', linestyle='--', label=f'Observed Total ({observed_total})')\n",
    "plt.title(f'Monte Carlo Simulation of Total EV Counts for {year}')\n",
    "plt.xlabel('Simulated Total EV Counts')\n",
    "plt.ylabel('Frequency')\n",
    "plt.legend()\n",
    "plt.grid(axis='y', linestyle='--', alpha=0.7)\n",
    "plt.show()\n",
    "\n",
    "# Print summary statistics\n",
    "simulated_mean = np.mean(simulated_totals)\n",
    "simulated_std = np.std(simulated_totals)\n",
    "\n",
    "print(\"Observed Total:\", observed_total)\n",
    "print(\"Simulated Mean:\", simulated_mean)\n",
    "print(\"Simulated Standard Deviation:\", simulated_std)"
   ]
  },
  {
   "cell_type": "code",
   "execution_count": 12,
   "id": "d4e0eb9c-675a-4002-9f71-29407d9282a9",
   "metadata": {},
   "outputs": [],
   "source": [
    "# Group the vehicle counts by Registration Year\n",
    "yearly_data = evs.reset_index().groupby('Registration Year')['Vehicles'].sum()\n",
    "observed_counts = yearly_data.values\n",
    "observed_average = np.mean(observed_counts)\n",
    "\n",
    "# Monte Carlo simulation using poisson-distributed samples\n",
    "n_simulations = 1000\n",
    "simulated_averages = []\n",
    "for _ in range(n_simulations):\n",
    "    simulated_counts = np.random.poisson(lam=observed_counts)\n",
    "    simulated_average = np.mean(simulated_counts)\n",
    "    simulated_averages.append(simulated_average)\n",
    "\n",
    "# Plot histogram of simulated means\n",
    "plt.figure(figsize=(12, 6))\n",
    "plt.hist(simulated_averages, bins=30, edgecolor='black')\n",
    "plt.axvline(x=observed_average, color='red', linestyle='--', label=f'Observed Average ({observed_average:.2f})')\n",
    "plt.title('Monte Carlo Simulation of Average EV Counts Across Years')\n",
    "plt.xlabel('Simulated Average EV Counts')\n",
    "plt.ylabel('Frequency')\n",
    "plt.legend()\n",
    "plt.grid(axis='y', linestyle='--', alpha=0.7)\n",
    "plt.show()\n",
    "\n",
    "# Print summary statistics\n",
    "simulated_mean = np.mean(simulated_averages)\n",
    "simulated_std = np.std(simulated_averages)\n",
    "\n",
    "print(\"Observed Average:\", observed_average)\n",
    "print(\"Simulated Mean:\", simulated_mean)\n",
    "print(\"Simulated Standard Deviation:\", simulated_std)"
   ]
  },
  {
   "cell_type": "code",
   "execution_count": 13,
   "id": "da251d00-7f9c-45ef-84f3-c7ec37997e2a",
   "metadata": {},
   "outputs": [],
   "source": [
    "# Group the vehicle counts by Registration Year\n",
    "yearly_data = evs.reset_index().groupby('Registration Year')['Vehicles'].sum()\n",
    "years = yearly_data.index\n",
    "observed_counts = yearly_data.values\n",
    "\n",
    "# Monte Carlo simulation\n",
    "n_simulations = 1000\n",
    "simulated_counts = np.random.poisson(lam=observed_counts, size=(n_simulations, len(years)))\n",
    "\n",
    "# Compute simulated minimums, maximums\n",
    "simulated_minimums = simulated_counts.min(axis=0)\n",
    "simulated_maximums = simulated_counts.max(axis=0)\n",
    "\n",
    "plt.figure(figsize=(12, 6))\n",
    "# Plot minimum, maximum, and observed values\n",
    "plt.plot(years, observed_counts, color='red', label='Observed Counts', linewidth=2)\n",
    "plt.plot(years, simulated_minimums, color='purple', label='Simulated Minimums', linestyle='--', linewidth=2)\n",
    "plt.plot(years, simulated_maximums, color='blue', label='Simulated Maximums', linestyle='--', linewidth=2)\n",
    "plt.yscale('log') # Log scale\n",
    "plt.title('Observed EV Count by Year vs Simulated Minimums and Maximums')\n",
    "plt.xlabel('Year')\n",
    "plt.ylabel('Vehicle Count (Log Scale)')\n",
    "plt.legend()\n",
    "plt.grid(axis='both', linestyle='--', alpha=0.7)\n",
    "plt.show()"
   ]
  }
 ],
 "metadata": {
  "kernelspec": {
   "display_name": "Python 3 (ipykernel)",
   "language": "python",
   "name": "python3"
  },
  "language_info": {
   "codemirror_mode": {
    "name": "ipython",
    "version": 3
   },
   "file_extension": ".py",
   "mimetype": "text/x-python",
   "name": "python",
   "nbconvert_exporter": "python",
   "pygments_lexer": "ipython3",
   "version": "3.11.9"
  }
 },
 "nbformat": 4,
 "nbformat_minor": 5
}
