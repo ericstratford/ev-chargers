{
 "cells": [
  {
   "cell_type": "markdown",
   "id": "7bfb2bc1-c688-48be-a449-f5ad28aae4fe",
   "metadata": {},
   "source": [
    "## Imports"
   ]
  },
  {
   "cell_type": "code",
   "execution_count": 1,
   "id": "7a842941-8e24-4f55-b0b7-a816aa55971f",
   "metadata": {},
   "outputs": [],
   "source": [
    "import pandas as pd\n",
    "import numpy as np\n",
    "import requests\n",
    "import geopandas as gpd\n",
    "import matplotlib.pyplot as plt"
   ]
  },
  {
   "cell_type": "markdown",
   "id": "ddb541f6-ab87-41b4-97ad-e6670b2f8ffe",
   "metadata": {},
   "source": [
    "## Data Query"
   ]
  },
  {
   "cell_type": "code",
   "execution_count": 2,
   "id": "9e4c4067-65f2-40ea-b84c-35c51ece3460",
   "metadata": {},
   "outputs": [],
   "source": [
    "url = \"https://developer.nrel.gov/api/alt-fuel-stations/v1.json\"  # Replace with the actual API endpoint\n",
    "params = {\n",
    "    'format': 'json',  # Output response format\n",
    "    'api_key': '***',  # Your developer API key\n",
    "    'status': 'all',  # Return stations that match the given status\n",
    "    # 'access': 'public',  # Return stations with the given access type\n",
    "    'fuel_type': 'ELEC', # Return stations that supply any of the given fuel types\n",
    "    'state': 'CA',\n",
    "    'country': 'US',\n",
    "    \n",
    "}\n",
    "\n",
    "response = requests.get(url, params=params)\n",
    "if response.status_code == 200:\n",
    "\n",
    "    data = response.json()"
   ]
  },
  {
   "cell_type": "code",
   "execution_count": 3,
   "id": "0c4d6700-9be8-4f41-a438-e9d470e2e4a9",
   "metadata": {},
   "outputs": [],
   "source": [
    "dmv_data = pd.read_csv(\"data/vehicle-fuel-type-count-by-zip-code-2024.csv\")"
   ]
  },
  {
   "cell_type": "code",
   "execution_count": 4,
   "id": "15ddbe66-1a79-4058-99fa-d0daf7be8d56",
   "metadata": {},
   "outputs": [],
   "source": [
    "sdge_zips_data = pd.read_excel(\"data/SDGE Service Territory Zip Code List Q2-2021.xlsx\")"
   ]
  },
  {
   "cell_type": "markdown",
   "id": "4cd6f143-a2d7-434c-981f-3b5888afb7d6",
   "metadata": {},
   "source": [
    "## Data Pre-Processing"
   ]
  },
  {
   "cell_type": "code",
   "execution_count": 5,
   "id": "3adf13ae-9faf-4167-9ac4-3222e3b7c570",
   "metadata": {},
   "outputs": [],
   "source": [
    "sdge_zips = list(sdge_zips_data['ZIP_CODE'])\n",
    "print(len(sdge_zips))"
   ]
  },
  {
   "cell_type": "code",
   "execution_count": 6,
   "id": "2de27959-895e-46cc-9efe-a7d6fabe6478",
   "metadata": {},
   "outputs": [],
   "source": [
    "# CS - Charging Stations\n",
    "cs = pd.DataFrame(data['fuel_stations'])\n",
    "cs = cs[cs['zip'] != 'CA']\n",
    "cs['zip'] = cs['zip'].astype(int)\n",
    "cs = cs[cs['zip'].isin(sdge_zips)]\n",
    "print(cs.shape)\n",
    "cs.head()"
   ]
  },
  {
   "cell_type": "code",
   "execution_count": 7,
   "id": "315cad16-73de-45dc-b07a-0db70f41e86d",
   "metadata": {},
   "outputs": [],
   "source": [
    "dmv = dmv_data.copy()\n",
    "dmv = dmv[dmv['ZIP Code']!=\"OOS\"]\n",
    "dmv['ZIP Code'] = dmv['ZIP Code'].astype(int)\n",
    "dmv = dmv[dmv['ZIP Code'].isin(sdge_zips)]\n",
    "print(dmv.shape)\n",
    "dmv.head()"
   ]
  },
  {
   "cell_type": "code",
   "execution_count": 8,
   "id": "1814c963-3ed5-46b4-9553-baefde40750e",
   "metadata": {},
   "outputs": [],
   "source": [
    "dmv.columns"
   ]
  },
  {
   "cell_type": "markdown",
   "id": "552e980e-50b2-4a0c-806c-d11cfac8fc7b",
   "metadata": {},
   "source": [
    "## Pre-EDA"
   ]
  },
  {
   "cell_type": "code",
   "execution_count": 9,
   "id": "2c1ad3ab-881d-4f0f-83c1-ac9650fe9602",
   "metadata": {},
   "outputs": [],
   "source": [
    "# Calculate EV for each zip code (in SDGE territory)\n",
    "# And merge with dmv dataset for a new table\n",
    "zip_totals = dmv.groupby('ZIP Code')['Vehicles'].sum().reset_index(name='Lambda')\n",
    "ev_totals = dmv[dmv['Fuel']==\"Battery Electric\"].groupby('ZIP Code')['Vehicles'].sum().reset_index(name='EV Lambda')\n",
    "df = dmv.merge(zip_totals, on='ZIP Code', how='left')\n",
    "df = df.merge(ev_totals, on='ZIP Code', how='left')\n",
    "\n",
    "# Count the number of charging stations per ZIP code\n",
    "cs_counts = cs.groupby('zip').size().reset_index(name='ChargingStations')\n",
    "df = df.merge(cs_counts, left_on='ZIP Code', right_on='zip', how='left')\n",
    "df.drop(columns=['zip'], inplace=True)\n",
    "df['ChargingStations'] = df['ChargingStations'].fillna(0).astype(int)\n",
    "\n",
    "df['CSperEV'] = df['ChargingStations']/df['EV Lambda']\n",
    "\n",
    "df.head()"
   ]
  },
  {
   "cell_type": "markdown",
   "id": "3a1edcf6-7956-4e7a-b44f-2e4436996b8c",
   "metadata": {},
   "source": [
    "## EDA"
   ]
  },
  {
   "cell_type": "code",
   "execution_count": 10,
   "id": "250f9786-fb85-4069-a257-fac90700f3e8",
   "metadata": {},
   "outputs": [],
   "source": [
    "from sklearn.preprocessing import StandardScaler\n",
    "\n",
    "zips = df.groupby('ZIP Code')[['EV Lambda', 'ChargingStations', 'CSperEV']].mean()#.sort_values(by='CSperEV', ascending=True)\n",
    "\n",
    "scaler = StandardScaler()\n",
    "zips['CSperEVscaled'] = scaler.fit_transform(zips[['CSperEV']])\n",
    "\n",
    "# Calculate the mean and standard deviation\n",
    "mean = zips['CSperEVscaled'].mean()\n",
    "std = zips['CSperEVscaled'].std()\n",
    "\n",
    "# Cap the values at 3 standard deviations\n",
    "cap_upper = mean + 3 * std\n",
    "cap_lower = mean - 3 * std\n",
    "\n",
    "# Apply the capping\n",
    "zips['CSperEVscaled'] = zips['CSperEVscaled'].clip(lower=cap_lower, upper=cap_upper)\n",
    "# zips['CSperEV_log'] = np.log1p(zips['CSperEV'])\n",
    "\n",
    "zips.head()"
   ]
  },
  {
   "cell_type": "markdown",
   "id": "a9d3168b-59b3-4e6a-8b7f-937aa02cdc01",
   "metadata": {},
   "source": [
    "### Map"
   ]
  },
  {
   "cell_type": "code",
   "execution_count": 11,
   "id": "6cc57a6b-dd28-4e95-a075-0eb51fe0a968",
   "metadata": {},
   "outputs": [],
   "source": [
    "import geopandas as gpd\n",
    "import folium\n",
    "\n",
    "# Load the ZCTA shapefile\n",
    "zcta = gpd.read_file(\"data/California_Census_ZIP_Code_Tabulation_Areas_-3654693237815920706.zip\")\n",
    "\n",
    "# Filter for California ZIP codes (ZCTAs starting with '92' cover Southern CA)\n",
    "zcta = zcta[zcta['ZCTA5'].str.startswith('92')]\n",
    "\n",
    "# Ensure ZIP codes are integers for merging\n",
    "zcta['ZCTA5'] = zcta['ZCTA5'].astype(int)\n",
    "\n",
    "# zcta.head()"
   ]
  },
  {
   "cell_type": "code",
   "execution_count": 12,
   "id": "b2c91bd7-597a-40d4-b91a-3c20a8cb07d9",
   "metadata": {},
   "outputs": [],
   "source": [
    "# Merge ZCTA shapefile with zips\n",
    "zcta = zcta.rename(columns={'ZCTA5': 'ZIP Code'})\n",
    "merged = zcta.merge(zips, on='ZIP Code', how='inner')\n",
    "\n",
    "# Cap ratio to limit outliers\n",
    "merged.loc[merged['CSperEV'] > 0.5, 'CSperEV'] = 0.5\n",
    "\n",
    "# merged.head(_"
   ]
  },
  {
   "cell_type": "code",
   "execution_count": 13,
   "id": "f1125e0d-a135-46f9-990d-90a846a7c741",
   "metadata": {},
   "outputs": [],
   "source": [
    "from folium import Choropleth\n",
    "\n",
    "# Create a base map centered on San Diego\n",
    "m = folium.Map(location=[32.7157, -117.1611], zoom_start=10)\n",
    "\n",
    "# Custom binning with heavier weights towards 0 and capping the upper limit at 0.5\n",
    "bins = [0, 0.0005, 0.001, 0.005, 0.01, 0.05, 0.1, 0.25, 0.5]  # Custom bins\n",
    "colors = ['#f7f7f7', '#fee5d9', '#fcae91', '#fb6a4a', '#e31a1c', '#bd0026', '#800026', '#660000']  # Color map for bins\n",
    "\n",
    "# Add choropleth map with custom bins\n",
    "folium.Choropleth(\n",
    "    geo_data=merged,  # GeoJSON data\n",
    "    data=merged,  # Dataframe containing the 'CSperEV' column\n",
    "    columns=['ZIP Code', 'CSperEV'],  # Specify the column names\n",
    "    key_on=\"feature.properties.ZIP Code\",  # Specify the key in GeoJSON\n",
    "    fill_color='YlOrRd',  # You can customize the color scheme here\n",
    "    fill_opacity=0.7,\n",
    "    line_opacity=0.2,\n",
    "    legend_name=\"Charging Stations per EV\",\n",
    "    bins=bins,  # Custom bins for scaling\n",
    "    reset=True,\n",
    "    highlight=True\n",
    ").add_to(m)\n",
    "\n",
    "print(\"SDGE Zip Codes by ratio of EV Chargers to registered EV Vehicles\")\n",
    "\n",
    "# Save the map\n",
    "m.save(\"charging_stations_by_zip_weighted.html\")\n",
    "m"
   ]
  }
 ],
 "metadata": {
  "kernelspec": {
   "display_name": "Python 3 (ipykernel)",
   "language": "python",
   "name": "python3"
  },
  "language_info": {
   "codemirror_mode": {
    "name": "ipython",
    "version": 3
   },
   "file_extension": ".py",
   "mimetype": "text/x-python",
   "name": "python",
   "nbconvert_exporter": "python",
   "pygments_lexer": "ipython3",
   "version": "3.11.9"
  }
 },
 "nbformat": 4,
 "nbformat_minor": 5
}
